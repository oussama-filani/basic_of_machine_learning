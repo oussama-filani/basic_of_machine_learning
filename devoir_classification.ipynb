{
 "cells": [
  {
   "cell_type": "code",
   "execution_count": null,
   "id": "699a46f8",
   "metadata": {},
   "outputs": [],
   "source": [
    "import numpy as np\n",
    "import matplotlib.pyplot as plt\n",
    "from sklearn.model_selection import train_test_split\n",
    "\n",
    "from sklearn.metrics import confusion_matrix, accuracy_score, recall_score, f1_score, classification_report\n",
    "\n",
    "import pandas as pnd\n"
   ]
  },
  {
   "cell_type": "markdown",
   "id": "c5213bb4",
   "metadata": {},
   "source": [
    "<h1 style=\"color: red;\">Section 1: Data</h1>"
   ]
  },
  {
   "cell_type": "markdown",
   "id": "a0e8be6f",
   "metadata": {},
   "source": [
    "<h2>1) Préparation de données</h2>"
   ]
  },
  {
   "cell_type": "code",
   "execution_count": 8,
   "id": "d9f748d7",
   "metadata": {},
   "outputs": [],
   "source": [
    "dataset =pnd.read_csv('diabetes.csv')#import\n",
    "X = np.array(dataset.drop(columns=['Outcome'])) #features\n",
    "y = np.array(dataset['Outcome']) #target\n",
    "#spilt data\n",
    "X_train,X_test,y_train,y_test=train_test_split(X,y,test_size=0.2,random_state=23)\n"
   ]
  },
  {
   "cell_type": "markdown",
   "id": "52055be8",
   "metadata": {},
   "source": [
    "<h1 style=\"color: red;\">Section 2: Neural network avec tensorflow</h1>"
   ]
  },
  {
   "cell_type": "code",
   "execution_count": 1,
   "id": "207be9c1",
   "metadata": {},
   "outputs": [],
   "source": [
    "import tensorflow as tf\n",
    "from tensorflow.keras import Sequential\n",
    "from tensorflow.keras.layers import Dense\n",
    "\n",
    "from tensorflow.keras.optimizers import Adam"
   ]
  },
  {
   "cell_type": "markdown",
   "id": "ac7a611a",
   "metadata": {},
   "source": [
    "<h2>2) Modèle de réseau de neurones</h2>"
   ]
  },
  {
   "cell_type": "code",
   "execution_count": null,
   "id": "5e07cb79",
   "metadata": {},
   "outputs": [],
   "source": [
    "model_nn = Sequential()\n",
    "output_layer = Dense(1, input_shape=(X_train.shape[1],), activation='sigmoid')\n",
    "model_nn.add(output_layer)\n",
    "opt = Adam(learning_rate=0.001)\n",
    "model_nn.compile(optimizer=opt, loss=\"binary_crossentropy\", metrics=[\"accuracy\"])\n",
    "model_nn.fit(X_train, y_train, epochs=1000, batch_size=32)"
   ]
  },
  {
   "cell_type": "markdown",
   "id": "851cd5cd",
   "metadata": {},
   "source": [
    "<h2>3) Prédiction en utilisant le modèle</h2>"
   ]
  },
  {
   "cell_type": "code",
   "execution_count": null,
   "id": "ecd76e27",
   "metadata": {},
   "outputs": [],
   "source": [
    "yhat_nn=model_nn.predict(X_test)"
   ]
  },
  {
   "cell_type": "code",
   "execution_count": 25,
   "id": "6206dea3",
   "metadata": {},
   "outputs": [],
   "source": [
    "yhat_nn=yhat_nn.flatten()"
   ]
  },
  {
   "cell_type": "code",
   "execution_count": null,
   "id": "660c778c",
   "metadata": {},
   "outputs": [],
   "source": [
    "W_nn, bias_nn = model_nn.layers[0].get_weights()\n",
    "\n",
    "# Afficher les poids et biais\n",
    "print(\"Poids :\", W_nn.flatten())\n",
    "print(\"Biais :\", bias_nn)"
   ]
  },
  {
   "cell_type": "code",
   "execution_count": null,
   "id": "e3d63bb5",
   "metadata": {},
   "outputs": [],
   "source": [
    "W,bias"
   ]
  },
  {
   "cell_type": "markdown",
   "id": "5503925c",
   "metadata": {},
   "source": [
    "<h2>4) Evaluation du modèle</h2>"
   ]
  },
  {
   "cell_type": "code",
   "execution_count": 28,
   "id": "563f13a9",
   "metadata": {},
   "outputs": [],
   "source": [
    "#code à fournir\n",
    "\n",
    "# Prédictions arrondies pour classification binaire\n",
    "yhat_nn_class = (yhat_nn > 0.5).astype(int)\n",
    "\n",
    "# Métriques d'évaluation\n",
    "accuracy = accuracy_score(y_test, yhat_nn_class)\n",
    "conf_matrix = confusion_matrix(y_test, yhat_nn_class)\n",
    "report = classification_report(y_test, yhat_nn_class)\n",
    "\n",
    "print(f\"Accuracy: {accuracy:.4f}\")\n",
    "print(\"\\nMatrice de confusion:\")\n",
    "print(conf_matrix)\n",
    "print(\"\\nRapport de classification:\")\n",
    "print(report)\n",
    "\n",
    "# Visualisation de la matrice de confusion\n",
    "plt.figure(figsize=(8, 6))\n",
    "plt.imshow(conf_matrix, interpolation='nearest', cmap=plt.cm.Blues)\n",
    "plt.title('Matrice de confusion')\n",
    "plt.colorbar()\n",
    "classes = ['Non-diabétique (0)', 'Diabétique (1)']\n",
    "tick_marks = np.arange(len(classes))\n",
    "plt.xticks(tick_marks, classes, rotation=45)\n",
    "plt.yticks(tick_marks, classes)\n",
    "\n",
    "# Annotation des valeurs dans la matrice\n",
    "thresh = conf_matrix.max() / 2\n",
    "for i in range(conf_matrix.shape[0]):\n",
    "    for j in range(conf_matrix.shape[1]):\n",
    "        plt.text(j, i, format(conf_matrix[i, j], 'd'),\n",
    "                 horizontalalignment=\"center\",\n",
    "                 color=\"white\" if conf_matrix[i, j] > thresh else \"black\")\n",
    "\n",
    "plt.tight_layout()\n",
    "plt.ylabel('Valeur réelle')\n",
    "plt.xlabel('Valeur prédite')\n",
    "plt.show()"
   ]
  },
  {
   "cell_type": "markdown",
   "id": "c6d59eb7",
   "metadata": {},
   "source": [
    "<h1>From scratch</h1>\n"
   ]
  },
  {
   "cell_type": "markdown",
   "id": "4016264c",
   "metadata": {},
   "source": [
    "<h2>Modèle de régression logistic from scratch avec utilisation des matrices</h2>\n"
   ]
  },
  {
   "cell_type": "code",
   "execution_count": null,
   "id": "44ea5d80",
   "metadata": {},
   "outputs": [],
   "source": [
    "learning_rate = 0.0001\n",
    "epochs = 1000\n",
    "\n",
    "\n",
    "# Initialisation des paramètres\n",
    "W = np.zeros((X_train.shape[1], 1))  # Shape: (8, 1) pour le dataset diabetes\n",
    "b = 0.0\n",
    "\n",
    "# Fonction sigmoid pour la régression logistique\n",
    "def sigmoid(z):\n",
    "    return 1 / (1 + np.exp(-z))\n",
    "\n",
    "# Reshape y_train pour garantir les dimensions adéquates \n",
    "y_train = y_train.reshape(-1, 1)  # Shape: (n_samples, 1)\n",
    "n = len(X_train)\n",
    "\n",
    "# Entraînement (descente de gradient vectorisée)\n",
    "for epoch in range(epochs):\n",
    "    # Forward pass\n",
    "    z = np.dot(X_train, W) + b\n",
    "    y_pred = sigmoid(z)  # Shape: (n, 1)\n",
    "    error = y_pred - y_train  # Shape: (n, 1)\n",
    "\n",
    "    # Calcul des gradients\n",
    "    dW = (1/n) * np.dot(X_train.T, error)  # Shape: (8, 1)\n",
    "    db = (1/n) * np.sum(error)        # Scalaire\n",
    "\n",
    "    # Mise à jour des paramètres\n",
    "    W -= learning_rate * dW\n",
    "    b -= learning_rate * db\n",
    "\n",
    "# Résultats\n",
    "print(\"Paramètres ajustés:\")\n",
    "print(f\"W = \\n{W}\")\n",
    "print(f\"b = {b:.4f}\")"
   ]
  },
  {
   "cell_type": "code",
   "execution_count": null,
   "id": "1215b2e2",
   "metadata": {},
   "outputs": [],
   "source": []
  }
 ],
 "metadata": {
  "kernelspec": {
   "display_name": "venv",
   "language": "python",
   "name": "python3"
  },
  "language_info": {
   "codemirror_mode": {
    "name": "ipython",
    "version": 3
   },
   "file_extension": ".py",
   "mimetype": "text/x-python",
   "name": "python",
   "nbconvert_exporter": "python",
   "pygments_lexer": "ipython3",
   "version": "3.9.10"
  }
 },
 "nbformat": 4,
 "nbformat_minor": 5
}
