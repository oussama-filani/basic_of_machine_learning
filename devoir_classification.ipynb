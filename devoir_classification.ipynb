{
 "cells": [
  {
   "cell_type": "code",
   "execution_count": 1,
   "id": "699a46f8",
   "metadata": {},
   "outputs": [],
   "source": [
    "import numpy as np\n",
    "import matplotlib.pyplot as plt\n",
    "from sklearn.model_selection import train_test_split\n",
    "\n",
    "from sklearn.metrics import confusion_matrix, accuracy_score, recall_score, f1_score, classification_report\n",
    "\n",
    "import pandas as pnd\n"
   ]
  },
  {
   "cell_type": "markdown",
   "id": "c5213bb4",
   "metadata": {},
   "source": [
    "<h1 style=\"color: red;\">Section 1: Data</h1>"
   ]
  },
  {
   "cell_type": "markdown",
   "id": "a0e8be6f",
   "metadata": {},
   "source": [
    "<h2>1) Préparation de données</h2>"
   ]
  },
  {
   "cell_type": "code",
   "execution_count": 8,
   "id": "d9f748d7",
   "metadata": {},
   "outputs": [],
   "source": [
    "dataset =pnd.read_csv('diabetes.csv')#import\n",
    "X = np.array(dataset.drop(columns=['Outcome'])) #features\n",
    "y = np.array(dataset['Outcome']) #target\n",
    "#spilt data\n",
    "X_train,X_test,y_train,y_test=train_test_split(X,y,test_size=0.2,random_state=23)\n"
   ]
  },
  {
   "cell_type": "markdown",
   "id": "52055be8",
   "metadata": {},
   "source": [
    "<h1 style=\"color: red;\">Section 2: Neural network avec tensorflow</h1>"
   ]
  },
  {
   "cell_type": "code",
   "execution_count": 1,
   "id": "207be9c1",
   "metadata": {},
   "outputs": [],
   "source": [
    "import tensorflow as tf\n",
    "from tensorflow.keras import Sequential\n",
    "from tensorflow.keras.layers import Dense\n",
    "\n",
    "from tensorflow.keras.optimizers import Adam"
   ]
  },
  {
   "cell_type": "markdown",
   "id": "ac7a611a",
   "metadata": {},
   "source": [
    "<h2>2) Modèle de réseau de neurones</h2>"
   ]
  },
  {
   "cell_type": "code",
   "execution_count": null,
   "id": "5e07cb79",
   "metadata": {},
   "outputs": [],
   "source": [
    "model_nn = Sequential()\n",
    "output_layer=Dense(?, input_shape=(X_train.shape[1],), activation='?')\n",
    "model_nn.add(?)\n",
    "opt = Adam(learning_rate=?)\n",
    "model_nn.compile(optimizer=?,loss=\"?\",metrics=[\"?\"])\n",
    "model_nn.fit(?)"
   ]
  },
  {
   "cell_type": "markdown",
   "id": "851cd5cd",
   "metadata": {},
   "source": [
    "<h2>3) Prédiction en utilisant le modèle</h2>"
   ]
  },
  {
   "cell_type": "code",
   "execution_count": null,
   "id": "ecd76e27",
   "metadata": {},
   "outputs": [],
   "source": [
    "yhat_nn=model_nn.predict(X_test)"
   ]
  },
  {
   "cell_type": "code",
   "execution_count": 25,
   "id": "6206dea3",
   "metadata": {},
   "outputs": [],
   "source": [
    "yhat_nn=yhat_nn.flatten()"
   ]
  },
  {
   "cell_type": "code",
   "execution_count": null,
   "id": "660c778c",
   "metadata": {},
   "outputs": [],
   "source": [
    "W_nn, bias_nn = model_nn.layers[0].get_weights()\n",
    "\n",
    "# Afficher les poids et biais\n",
    "print(\"Poids :\", W_nn.flatten())\n",
    "print(\"Biais :\", bias_nn)"
   ]
  },
  {
   "cell_type": "code",
   "execution_count": null,
   "id": "e3d63bb5",
   "metadata": {},
   "outputs": [],
   "source": [
    "W,bias"
   ]
  },
  {
   "cell_type": "markdown",
   "id": "5503925c",
   "metadata": {},
   "source": [
    "<h2>4) Evaluation du modèle</h2>"
   ]
  },
  {
   "cell_type": "code",
   "execution_count": 28,
   "id": "563f13a9",
   "metadata": {},
   "outputs": [],
   "source": [
    "#code à fournir"
   ]
  },
  {
   "cell_type": "markdown",
   "id": "c6d59eb7",
   "metadata": {},
   "source": [
    "<h1>From scratch</h1>\n"
   ]
  },
  {
   "cell_type": "markdown",
   "id": "4016264c",
   "metadata": {},
   "source": [
    "<h2>Modèle de régression logistic from scratch avec utilisation des matrices</h2>\n"
   ]
  },
  {
   "cell_type": "code",
   "execution_count": null,
   "id": "44ea5d80",
   "metadata": {},
   "outputs": [],
   "source": [
    "learning_rate = 0.0001\n",
    "epochs = 1000\n",
    "\n",
    "\n",
    "# Initialisation des paramètres\n",
    "W = ?  # Shape: (2, 1)\n",
    "b = 0.0\n",
    "\n",
    "# Reshape y_train pour garantir les dimensions adéquates \n",
    "y_train = y_train.reshape(-1, 1)  # Shape: (n_samples, 1)\n",
    "n = len(X_train)\n",
    "\n",
    "# Entraînement (descente de gradient vectorisée)\n",
    "for epoch in range(epochs):\n",
    "    y_pred = ? # Shape: (n, 1)\n",
    "    error = ?  # Shape: (n, 1)\n",
    "\n",
    "    # Calcul des gradients\n",
    "    dW = (1/n) * (?)  # Shape: (2, 1)\n",
    "    db = (1/n) * np.sum(error)        # Scalaire\n",
    "\n",
    "    # Mise à jour des paramètres\n",
    "    W -= ?\n",
    "    b -= learning_rate * db\n",
    "\n",
    "# Résultats\n",
    "print(\"Paramètres ajustés:\")\n",
    "print(f\"W = \\n{W}\")\n",
    "print(f\"b = {b:.4f}\")"
   ]
  },
  {
   "cell_type": "code",
   "execution_count": null,
   "id": "1215b2e2",
   "metadata": {},
   "outputs": [],
   "source": []
  }
 ],
 "metadata": {
  "kernelspec": {
   "display_name": "Python 3 (ipykernel)",
   "language": "python",
   "name": "python3"
  },
  "language_info": {
   "codemirror_mode": {
    "name": "ipython",
    "version": 3
   },
   "file_extension": ".py",
   "mimetype": "text/x-python",
   "name": "python",
   "nbconvert_exporter": "python",
   "pygments_lexer": "ipython3",
   "version": "3.9.13"
  }
 },
 "nbformat": 4,
 "nbformat_minor": 5
}
