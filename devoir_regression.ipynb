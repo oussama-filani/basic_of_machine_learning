{
 "cells": [
  {
   "cell_type": "code",
   "execution_count": 1,
   "id": "699a46f8",
   "metadata": {},
   "outputs": [],
   "source": [
    "import numpy as np\n",
    "import matplotlib.pyplot as plt\n",
    "from sklearn.model_selection import train_test_split\n",
    "\n",
    "from sklearn.metrics import mean_squared_error,r2_score\n",
    "import pandas as pnd\n"
   ]
  },
  {
   "cell_type": "markdown",
   "id": "c5213bb4",
   "metadata": {},
   "source": [
    "<h1 style=\"color: red;\">Section 1: Data</h1>"
   ]
  },
  {
   "cell_type": "markdown",
   "id": "a0e8be6f",
   "metadata": {},
   "source": [
    "<h2>1) Préparation de données</h2>"
   ]
  },
  {
   "cell_type": "code",
   "execution_count": 2,
   "id": "d9f748d7",
   "metadata": {},
   "outputs": [],
   "source": [
    "np.random.seed(44) #à chaque exécution,générer le même dataset de manière aléatoire\n",
    "# Coefficients\n",
    "a1, a2, b = 2, 3, 5  # y = 2*X1 + 3*X2 + 5 + bruit\n",
    "nombre_points = 100 # Nombre de points\n",
    "# Génération des deux features (X1 et X2)\n",
    "X1 = np.random.rand(nombre_points) * 10\n",
    "X2 = np.random.rand(nombre_points) * 10\n",
    "# Empilement des features dans une seule matrice (shape: (100, 2))\n",
    "X = np.column_stack((X1, X2))\n",
    "# Génération du bruit\n",
    "bruit = np.random.randn(nombre_points) * 2  # Bruit\n",
    "# Calcul de la target\n",
    "y = a1 * X1 + a2 * X2 + b + bruit\n",
    "\n",
    "#spilt data\n",
    "X_train,X_test,y_train,y_test=train_test_split(X,y,test_size=0.2,random_state=23)\n"
   ]
  },
  {
   "cell_type": "markdown",
   "id": "52055be8",
   "metadata": {},
   "source": [
    "<h1 style=\"color: red;\">Section 2: Neural network avec tensorflow</h1>"
   ]
  },
  {
   "cell_type": "code",
   "execution_count": 5,
   "id": "207be9c1",
   "metadata": {},
   "outputs": [],
   "source": [
    "import tensorflow as tf\n",
    "from tensorflow.keras import Sequential\n",
    "from tensorflow.keras.layers import Dense"
   ]
  },
  {
   "cell_type": "markdown",
   "id": "ac7a611a",
   "metadata": {},
   "source": [
    "<h2>2) Modèle de réseau de neurones</h2>"
   ]
  },
  {
   "cell_type": "code",
   "execution_count": null,
   "id": "5e07cb79",
   "metadata": {},
   "outputs": [],
   "source": [
    "model_nn = ?#compéter\n",
    "output_layer=Dense(?) #compéter\n",
    "model_nn.add(output_layer)\n",
    "model_nn.compile(?) #compéter\n",
    "model_nn.fit(?) #compéter"
   ]
  },
  {
   "cell_type": "markdown",
   "id": "851cd5cd",
   "metadata": {},
   "source": [
    "<h2>3) Prédiction en utilisant le modèle</h2>"
   ]
  },
  {
   "cell_type": "code",
   "execution_count": null,
   "id": "ecd76e27",
   "metadata": {},
   "outputs": [],
   "source": [
    "yhat_nn=model_nn.predict(X_test)"
   ]
  },
  {
   "cell_type": "code",
   "execution_count": 34,
   "id": "6206dea3",
   "metadata": {},
   "outputs": [],
   "source": [
    "yhat_nn=yhat_nn.flatten()"
   ]
  },
  {
   "cell_type": "code",
   "execution_count": null,
   "id": "660c778c",
   "metadata": {},
   "outputs": [],
   "source": [
    "W_nn, bias_nn = model_nn.layers[0].get_weights()\n",
    "\n",
    "# Afficher les poids et biais\n",
    "print(\"Poids :\", W_nn.flatten())\n",
    "print(\"Biais :\", bias_nn)"
   ]
  },
  {
   "cell_type": "code",
   "execution_count": null,
   "id": "e3d63bb5",
   "metadata": {},
   "outputs": [],
   "source": [
    "W,bias"
   ]
  },
  {
   "cell_type": "markdown",
   "id": "5503925c",
   "metadata": {},
   "source": [
    "<h2>4) Evaluation du modèle</h2>"
   ]
  },
  {
   "cell_type": "code",
   "execution_count": null,
   "id": "563f13a9",
   "metadata": {},
   "outputs": [],
   "source": [
    "mse_nn,r2_nn=mean_squared_error(yhat_nn,y_test),r2_score(yhat_nn,y_test)\n",
    "print(mse_nn,r2_nn)\n",
    "\n",
    "import matplotlib.pyplot as plt\n",
    "\n",
    "# Tracé des résidus\n",
    "plt.scatter(yhat_nn, y_test - yhat_nn, color='blue', alpha=0.6)\n",
    "plt.axhline(0, color='red', linestyle='--')\n",
    "plt.xlabel(\"Valeurs prédites (ŷ)\")\n",
    "plt.ylabel(\"Résidus (y - ŷ)\")\n",
    "plt.title(\"Graphique des résidus\")\n",
    "plt.grid(True)\n",
    "plt.show()\n"
   ]
  },
  {
   "cell_type": "markdown",
   "id": "c6d59eb7",
   "metadata": {},
   "source": [
    "<h1>From scratch</h1>\n"
   ]
  },
  {
   "cell_type": "markdown",
   "id": "0bc8ab8e",
   "metadata": {},
   "source": [
    "<h1 style=\"color: red;\"> Section 3 :Régression linéaire from scratch </h1>\n"
   ]
  },
  {
   "cell_type": "markdown",
   "id": "4016264c",
   "metadata": {},
   "source": [
    "<h2>Modèle (version1) de régression linéaire from scratch avec utilisation des matrices</h2>\n"
   ]
  },
  {
   "cell_type": "code",
   "execution_count": null,
   "id": "44ea5d80",
   "metadata": {},
   "outputs": [],
   "source": [
    "learning_rate = 0.0001\n",
    "epochs = 1000\n",
    "\n",
    "\n",
    "# Initialisation des paramètres\n",
    "W = np.array([[0.0], [0.0]])  # Shape: (2, 1)\n",
    "b = 0.0\n",
    "\n",
    "# Reshape y_train pour garantir les dimensions adéquates \n",
    "y_train = y_train.reshape(-1, 1)  # Shape: (n_samples, 1)\n",
    "n = len(X_train)\n",
    "\n",
    "# Entraînement (descente de gradient vectorisée)\n",
    "for epoch in range(epochs):\n",
    "    y_pred = X_train @ ?#compéter, @ pour un produit entre matrices  # Shape: (n, 1)\n",
    "    error = y_pred - y_train  # Shape: (n, 1)\n",
    "\n",
    "    # Calcul des gradients\n",
    "    dW = (1/n) * (?) #compéter  # Shape: (2, 1)\n",
    "    db = (1/n) * np.sum(error)        # Scalaire\n",
    "\n",
    "    # Mise à jour des paramètres\n",
    "    W -= ?#compéter\n",
    "    b -= learning_rate * db\n",
    "\n",
    "# Résultats\n",
    "print(\"Paramètres ajustés:\")\n",
    "print(f\"W = \\n{W}\")\n",
    "print(f\"b = {b:.4f}\")"
   ]
  },
  {
   "cell_type": "code",
   "execution_count": null,
   "id": "74a08eff",
   "metadata": {},
   "outputs": [],
   "source": []
  },
  {
   "cell_type": "code",
   "execution_count": null,
   "id": "1215b2e2",
   "metadata": {},
   "outputs": [],
   "source": []
  }
 ],
 "metadata": {
  "kernelspec": {
   "display_name": "Python 3 (ipykernel)",
   "language": "python",
   "name": "python3"
  },
  "language_info": {
   "codemirror_mode": {
    "name": "ipython",
    "version": 3
   },
   "file_extension": ".py",
   "mimetype": "text/x-python",
   "name": "python",
   "nbconvert_exporter": "python",
   "pygments_lexer": "ipython3",
   "version": "3.9.13"
  }
 },
 "nbformat": 4,
 "nbformat_minor": 5
}
